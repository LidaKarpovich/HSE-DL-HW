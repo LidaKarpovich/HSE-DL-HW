{
  "nbformat": 4,
  "nbformat_minor": 0,
  "metadata": {
    "colab": {
      "provenance": []
    },
    "kernelspec": {
      "name": "python3",
      "display_name": "Python 3"
    },
    "language_info": {
      "name": "python"
    }
  },
  "cells": [
    {
      "cell_type": "code",
      "execution_count": null,
      "metadata": {
        "id": "_3QDhuYbdi8a"
      },
      "outputs": [],
      "source": [
        "import os\n",
        "import pandas as pd\n",
        "import torch\n",
        "import torch.nn as nn\n",
        "import torch.optim as optim\n",
        "import torchvision.transforms as transforms\n",
        "import torchvision.models as models\n",
        "from torch.utils.data import Dataset, DataLoader\n",
        "from PIL import Image\n",
        "from tqdm import tqdm"
      ]
    },
    {
      "cell_type": "code",
      "source": [
        "BATCH_SIZE = 64\n",
        "EPOCHS = 10\n",
        "DEVICE = torch.device(\"cuda\" if torch.cuda.is_available() else \"cpu\")"
      ],
      "metadata": {
        "id": "Ve8jOaM3F4oE"
      },
      "execution_count": null,
      "outputs": []
    },
    {
      "cell_type": "code",
      "source": [
        "#Аугментация\n",
        "train_transforms = transforms.Compose([\n",
        "    transforms.RandomResizedCrop(224),\n",
        "    transforms.RandomHorizontalFlip(),\n",
        "    transforms.ColorJitter(brightness=0.2, contrast=0.2, saturation=0.2, hue=0.1),\n",
        "    transforms.ToTensor(),\n",
        "    transforms.Normalize(mean=[0.485, 0.456, 0.406], std=[0.229, 0.224, 0.225])\n",
        "])\n",
        "\n",
        "test_transforms = transforms.Compose([\n",
        "    transforms.Resize((224, 224)),\n",
        "    transforms.ToTensor(),\n",
        "    transforms.Normalize(mean=[0.485, 0.456, 0.406], std=[0.229, 0.224, 0.225])\n",
        "])"
      ],
      "metadata": {
        "id": "7FnfvpYpF7VM"
      },
      "execution_count": null,
      "outputs": []
    },
    {
      "cell_type": "code",
      "source": [
        "LABELS = ['Tshirts', 'Shirts', 'Casual Shoes', 'Watches', 'Sports Shoes', 'Kurtas', 'Tops', 'Handbags', 'Heels', 'Sunglasses', 'Wallets', 'Flip Flops', 'Sandals', 'Briefs', 'Belts', 'Backpacks', 'Socks', 'Formal Shoes', 'Perfume and Body Mist', 'Jeans']\n",
        "LABEL_TO_IDX = {label: idx for idx, label in enumerate(LABELS)}\n",
        "IDX_TO_LABEL = {idx: label for label, idx in LABEL_TO_IDX.items()}"
      ],
      "metadata": {
        "id": "9PHD3s0uGBuK"
      },
      "execution_count": null,
      "outputs": []
    },
    {
      "cell_type": "code",
      "source": [
        "class FashionDataset(Dataset):\n",
        "    def __init__(self, df_meta, img_path, transform=None, is_test=False):\n",
        "        self.df_meta = df_meta\n",
        "        self.img_path = img_path\n",
        "        self.transform = transform\n",
        "        self.is_test = is_test\n",
        "\n",
        "    def __len__(self):\n",
        "        return len(self.df_meta)\n",
        "\n",
        "    def __getitem__(self, idx):\n",
        "        img_name = self.df_meta.iloc[idx, 0]\n",
        "        img = Image.open(os.path.join(self.img_path, img_name)).convert('RGB')\n",
        "\n",
        "        if self.transform:\n",
        "            img = self.transform(img)\n",
        "\n",
        "        img = img.to(DEVICE)\n",
        "\n",
        "        if self.is_test:\n",
        "            return img\n",
        "        else:\n",
        "            label = LABEL_TO_IDX[self.df_meta.iloc[idx, 1]]\n",
        "            label = torch.tensor(label, dtype=torch.long).to(DEVICE)\n",
        "            return img, label"
      ],
      "metadata": {
        "id": "b4iv19p4GEnD"
      },
      "execution_count": null,
      "outputs": []
    },
    {
      "cell_type": "code",
      "source": [
        "df_train = pd.read_csv('/kaggle/input/dl-5-image-classification/train-labels.csv')\n",
        "df_train = df_train[df_train[\"image\"] != \"39401.jpg\"]\n",
        "df_test = pd.DataFrame({\"image\": os.listdir('/kaggle/input/dl-5-image-classification/test/test/')})\n",
        "\n",
        "test_dataset = FashionDataset(df_test, '/kaggle/input/dl-5-image-classification/test/test', test_transforms, is_test=True)\n",
        "train_dataset = FashionDataset(df_train, '/kaggle/input/dl-5-image-classification/train', train_transforms, is_test=False)\n",
        "\n",
        "train_loader = DataLoader(train_dataset, batch_size=BATCH_SIZE, shuffle=True)\n",
        "test_loader = DataLoader(test_dataset, batch_size=BATCH_SIZE, shuffle=False)"
      ],
      "metadata": {
        "id": "Yz8wyQtMGKIc"
      },
      "execution_count": null,
      "outputs": []
    },
    {
      "cell_type": "code",
      "source": [
        "model = models.resnet18(weights=None)\n",
        "model.fc = nn.Linear(model.fc.in_features, 20)\n",
        "model = model.to(DEVICE)"
      ],
      "metadata": {
        "id": "BWnZhg4pGM4x"
      },
      "execution_count": null,
      "outputs": []
    },
    {
      "cell_type": "code",
      "source": [
        "loss_fn = nn.CrossEntropyLoss()\n",
        "optimizer = optim.AdamW(model.parameters(), lr=1e-3, weight_decay=1e-4)\n",
        "scheduler = optim.lr_scheduler.StepLR(optimizer, step_size=5, gamma=0.5)"
      ],
      "metadata": {
        "id": "0ms2aFjUGQNj"
      },
      "execution_count": null,
      "outputs": []
    },
    {
      "cell_type": "code",
      "source": [
        "def train():\n",
        "    model.train()\n",
        "    for epoch in range(EPOCHS):\n",
        "        total_loss = 0\n",
        "        correct = 0\n",
        "        for images, labels in tqdm(train_loader, desc=f'Epoch {epoch+1}/{EPOCHS}'):\n",
        "            optimizer.zero_grad()\n",
        "            outputs = model(images)\n",
        "            loss = loss_fn(outputs, labels)\n",
        "            loss.backward()\n",
        "            optimizer.step()\n",
        "            total_loss += loss.item()\n",
        "            correct += (outputs.argmax(1) == labels).sum().item()\n",
        "        scheduler.step()\n",
        "        print(f'Epoch {epoch+1}, Loss: {total_loss / len(train_loader)}, Accuracy: {correct / len(train_dataset):.4f}')"
      ],
      "metadata": {
        "id": "Y1YPbl0MGbLN"
      },
      "execution_count": null,
      "outputs": []
    },
    {
      "cell_type": "code",
      "source": [
        "def predict():\n",
        "    model.eval()\n",
        "    predictions = []\n",
        "    with torch.no_grad():\n",
        "        for images in tqdm(test_loader, desc='Predicting'):\n",
        "            outputs = model(images)\n",
        "            preds = outputs.argmax(1).cpu().numpy()\n",
        "            predictions.extend(preds)\n",
        "\n",
        "    df_test['label'] = [IDX_TO_LABEL[idx] for idx in predictions]\n",
        "    df_test.to_csv('submission.csv', index=False)\n",
        "    print('Predictions saved to submission.csv')"
      ],
      "metadata": {
        "id": "LbAjpfERGfp1"
      },
      "execution_count": null,
      "outputs": []
    },
    {
      "cell_type": "code",
      "source": [
        "train()\n",
        "predict()"
      ],
      "metadata": {
        "id": "24pnI7meGoDK"
      },
      "execution_count": null,
      "outputs": []
    },
    {
      "cell_type": "markdown",
      "source": [
        "Для классификации изображений используется ResNet-18 – сверточная нейронная сеть (CNN), которая показала отличные результаты на задачах классификации.\n",
        "\n",
        "Изменения в модели:\n",
        "\n",
        "Взята стандартная ResNet-18 без предобученных весов (weights=None).\n",
        "Последний полносвязный слой (fc) заменен на новый слой, соответствующий 20 классам.\n",
        "\n",
        "Для улучшения обучения модели используются преобразования изображений (аугментация):\n",
        "\n",
        "Для обучающего набора:\n",
        "*   Изменение размера\n",
        "*   Горизонтальное отражение\n",
        "*   Изменение цветовых характеристик (яркость, контраст и т. д.)\n",
        "*   Преобразование в тензор и нормализация\n",
        "\n",
        "Для тестового набора:\n",
        "*   Изменение размера\n",
        "*   Нормализация\n",
        "\n",
        "Модель обучается с использованием функции потерь CrossEntropyLoss и оптимизатора AdamW с регуляризацией.\n",
        "\n",
        "После запуска на 1 эпохе Accuracy: 0.4470. Итоговый результат на kaggle 0.60236.\n",
        "\n",
        "Далее увеличели количество эпох до 10 Accuracy: 0.7985. Итоговый результат на kaggle 0.83025.\n"
      ],
      "metadata": {
        "id": "jmDa7TlbGrI6"
      }
    }
  ]
}